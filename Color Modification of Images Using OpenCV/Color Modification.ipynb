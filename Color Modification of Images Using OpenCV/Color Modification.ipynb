{
 "cells": [
  {
   "cell_type": "code",
   "execution_count": 8,
   "metadata": {},
   "outputs": [
    {
     "data": {
      "text/plain": [
       "True"
      ]
     },
     "execution_count": 8,
     "metadata": {},
     "output_type": "execute_result"
    }
   ],
   "source": [
    "import cv2\n",
    "import numpy as np\n",
    "\n",
    "image = cv2.imread('input.jpg')\n",
    "lower_yellow = np.array([4, 120, 120], dtype=np.uint8)\n",
    "upper_yellow = np.array([30, 255, 255], dtype=np.uint8)\n",
    "yellow_mask = cv2.inRange(cv2.cvtColor(image, cv2.COLOR_BGR2HSV), lower_yellow, upper_yellow)\n",
    "image[np.where(yellow_mask != 0)] = [0, 0, 150]\n",
    "cv2.imshow('output', image)\n",
    "cv2.waitKey()\n",
    "cv2.imwrite('flowerred.jpg',image)"
   ]
  }
 ],
 "metadata": {
  "kernelspec": {
   "display_name": "Python 3",
   "language": "python",
   "name": "python3"
  },
  "language_info": {
   "codemirror_mode": {
    "name": "ipython",
    "version": 3
   },
   "file_extension": ".py",
   "mimetype": "text/x-python",
   "name": "python",
   "nbconvert_exporter": "python",
   "pygments_lexer": "ipython3",
   "version": "3.7.0"
  },
  "orig_nbformat": 4
 },
 "nbformat": 4,
 "nbformat_minor": 2
}
