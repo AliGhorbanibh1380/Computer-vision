{
 "cells": [
  {
   "cell_type": "code",
   "execution_count": 26,
   "metadata": {},
   "outputs": [],
   "source": [
    "import cv2\n",
    "import numpy as np\n",
    "height, width = 300, 300\n",
    "image = np.zeros((height, width, 3), dtype=np.uint8)\n",
    "\n",
    "#-------------------------------\n",
    "center_coordinates_circle = (150, 150)\n",
    "radius_circle = 150\n",
    "color_white = (255, 255, 255)\n",
    "thickness = -1  \n",
    "circle = np.zeros_like(image)\n",
    "cv2.circle(circle, center_coordinates_circle, radius_circle, color_white, thickness)\n",
    "\n",
    "#------------------------------------------\n",
    "top_left_square = (50, 50)\n",
    "bottom_right_square = (250, 250)\n",
    "rectangle = np.zeros_like(image)\n",
    "cv2.rectangle(rectangle, top_left_square, bottom_right_square, color_white, thickness)\n",
    "\n",
    "mask = np.zeros_like(image)\n",
    "cv2.ellipse(mask, center_coordinates_circle, (radius_circle, radius_circle), 0, 0, 180, color_white, thickness=-1)\n",
    "half_circle = cv2.bitwise_and(circle, mask)\n",
    "\n",
    "rotation_angle = -35\n",
    "rotation_matrix = cv2.getRotationMatrix2D(center_coordinates_circle, rotation_angle, 1)\n",
    "rotated_half_circle = cv2.warpAffine(half_circle, rotation_matrix, (width, height))\n",
    "\n",
    "result_image = cv2.bitwise_or(rotated_half_circle, rectangle)\n",
    "cv2.imshow('output', result_image)\n",
    "cv2.imwrite('shape.jpg',result_image)\n",
    "cv2.waitKey(0)\n",
    "cv2.destroyAllWindows()"
   ]
  }
 ],
 "metadata": {
  "kernelspec": {
   "display_name": "Python 3",
   "language": "python",
   "name": "python3"
  },
  "language_info": {
   "name": "python",
   "version": "3.7.0"
  },
  "orig_nbformat": 4
 },
 "nbformat": 4,
 "nbformat_minor": 2
}
