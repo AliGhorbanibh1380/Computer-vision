{
  "nbformat": 4,
  "nbformat_minor": 0,
  "metadata": {
    "colab": {
      "provenance": []
    },
    "kernelspec": {
      "name": "python3",
      "display_name": "Python 3"
    },
    "language_info": {
      "name": "python"
    }
  },
  "cells": [
    {
      "cell_type": "markdown",
      "source": [
        "#Image Segmentation and Background Removal using OpenCV"
      ],
      "metadata": {
        "id": "HEc-rhd-fimS"
      }
    },
    {
      "cell_type": "markdown",
      "source": [
        "#Import Libraries:\n",
        "Here, we import the necessary libraries. OpenCV (cv2) is used for image processing, while NumPy (np) assists in numerical operations.\n"
      ],
      "metadata": {
        "id": "XQksjsoTfqeU"
      }
    },
    {
      "cell_type": "code",
      "source": [
        "import cv2\n",
        "import numpy as np"
      ],
      "metadata": {
        "id": "ECfyyf3Ifpal"
      },
      "execution_count": null,
      "outputs": []
    },
    {
      "cell_type": "markdown",
      "source": [
        "#Read and Cut the Image:\n",
        "We read the original image containing the car.\n",
        "\n",
        "The image is cropped to remove any irrelevant areas (specifically from the top, we cut the first 155 pixels).\n",
        "\n",
        "The cropped image is saved as \"car_cut.png\"."
      ],
      "metadata": {
        "id": "kf88pPVNf0ox"
      }
    },
    {
      "cell_type": "code",
      "source": [
        "image = cv2.imread(\"./images/car.jpg\")\n",
        "cut_img = image[155:, :]\n",
        "cv2.imwrite(\"car_cut.png\", cut_img)"
      ],
      "metadata": {
        "id": "DmVmmVzngCtp"
      },
      "execution_count": null,
      "outputs": []
    },
    {
      "cell_type": "markdown",
      "source": [
        "#Display the Cut Image:\n",
        "This section displays the cropped image in a window until a key is pressed."
      ],
      "metadata": {
        "id": "48NCXlcPgGz5"
      }
    },
    {
      "cell_type": "code",
      "source": [
        "image = cv2.imread('./car_cut.png')\n",
        "cv2.imshow('Result', image)\n",
        "cv2.waitKey(0)\n",
        "cv2.destroyAllWindows()"
      ],
      "metadata": {
        "id": "hDlCgjOPgMef"
      },
      "execution_count": null,
      "outputs": []
    },
    {
      "cell_type": "markdown",
      "source": [
        "#Background Removal:\n",
        "We read the cropped image again for processing.\n",
        "\n",
        "We define a color range using lower and upper bounds in BGR format to target the sandy background.\n",
        "\n",
        "cv2.inRange creates a binary mask where pixels within the specified range are set to 255 (white) and others to 0 (black)."
      ],
      "metadata": {
        "id": "6MIS3qzcgQ98"
      }
    },
    {
      "cell_type": "code",
      "source": [
        "temp = cv2.imread(\"./car_cut.png\")\n",
        "lower = np.array([150, 194, 150])\n",
        "upper = np.array([220, 240, 255])\n",
        "\n",
        "thresh = cv2.inRange(temp, lower, upper)"
      ],
      "metadata": {
        "id": "ycJEM-iFgaXV"
      },
      "execution_count": null,
      "outputs": []
    },
    {
      "cell_type": "markdown",
      "source": [
        "#Morphological Operations:\n",
        "A structuring element (a 20x20 elliptical kernel) is created for morphological operations.\n",
        "\n",
        "cv2.morphologyEx is used to close gaps in the binary mask. This helps in refining the mask to better isolate the car.\n",
        "\n",
        "The mask is inverted to have the car as the foreground."
      ],
      "metadata": {
        "id": "7nR3TNJqgcCr"
      }
    },
    {
      "cell_type": "code",
      "source": [
        "kernel = cv2.getStructuringElement(cv2.MORPH_ELLIPSE, (20,20))\n",
        "morph = cv2.morphologyEx(thresh, cv2.MORPH_CLOSE, kernel)\n",
        "\n",
        "mask = 255 - morph"
      ],
      "metadata": {
        "id": "S4jNgE39gmEs"
      },
      "execution_count": null,
      "outputs": []
    },
    {
      "cell_type": "markdown",
      "source": [
        "#Bitwise AND to Extract Car:\n",
        "The bitwise AND operation is applied to keep only the parts of the image corresponding to the car. The background will be removed based on the mask we created.\n",
        "\n",
        "The resulting image is displayed and saved as \"car_only.png\"."
      ],
      "metadata": {
        "id": "VQELba7mgoYH"
      }
    },
    {
      "cell_type": "code",
      "source": [
        "result = cv2.bitwise_and(temp, temp, mask=mask)\n",
        "\n",
        "cv2.imshow(\"result.png\", result)\n",
        "cv2.waitKey(0)\n",
        "cv2.destroyAllWindows()\n",
        "cv2.imwrite(\"car_only.png\", result)"
      ],
      "metadata": {
        "id": "VGckVXbRgzCy"
      },
      "execution_count": null,
      "outputs": []
    },
    {
      "cell_type": "markdown",
      "source": [
        "#Convert to RGBA and Remove Black Pixels:\n",
        "The car image is read and converted to an RGBA format, where the last channel is the alpha (transparency) channel.\n",
        "\n",
        "A mask is created to identify all pixels that are black.\n",
        "\n",
        "The alpha channel values for the black pixels are set to 0, making them transparent.\n"
      ],
      "metadata": {
        "id": "nE5Gii3Eg1tj"
      }
    },
    {
      "cell_type": "code",
      "source": [
        "image = cv2.imread('car_only.png')\n",
        "image_rgba = cv2.cvtColor(image, cv2.COLOR_BGR2BGRA)\n",
        "\n",
        "black_pixels_mask = np.all(image[:, :, :3] == [0, 0, 0], axis=-1)\n",
        "image_rgba[black_pixels_mask, 3] = 0"
      ],
      "metadata": {
        "id": "sX4iVB5eg77X"
      },
      "execution_count": null,
      "outputs": []
    },
    {
      "cell_type": "markdown",
      "source": [
        "#Save the Final Image:\n",
        "Finally, the image with the transparent background is saved as"
      ],
      "metadata": {
        "id": "YGxYUZkog9jq"
      }
    },
    {
      "cell_type": "code",
      "source": [
        "cv2.imwrite('car_without_background.png', image_rgba)"
      ],
      "metadata": {
        "id": "khHw3PX2hCXS"
      },
      "execution_count": null,
      "outputs": []
    }
  ]
}