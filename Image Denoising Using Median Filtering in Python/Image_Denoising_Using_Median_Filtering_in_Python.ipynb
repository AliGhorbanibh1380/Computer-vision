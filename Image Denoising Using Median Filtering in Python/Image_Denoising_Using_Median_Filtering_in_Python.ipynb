{
  "nbformat": 4,
  "nbformat_minor": 0,
  "metadata": {
    "colab": {
      "provenance": []
    },
    "kernelspec": {
      "name": "python3",
      "display_name": "Python 3"
    },
    "language_info": {
      "name": "python"
    }
  },
  "cells": [
    {
      "cell_type": "markdown",
      "source": [
        "#Required Library\n",
        "Make sure to have OpenCV installed:"
      ],
      "metadata": {
        "id": "-Vk2j4MWj-UA"
      }
    },
    {
      "cell_type": "code",
      "execution_count": null,
      "metadata": {
        "id": "d3Z1vIh5j9uX"
      },
      "outputs": [],
      "source": [
        "pip install opencv-python"
      ]
    },
    {
      "cell_type": "markdown",
      "source": [
        "cv2: This imports the OpenCV library, allowing us to utilize its functions for image processing.\n"
      ],
      "metadata": {
        "id": "Fna1h-oKkGt8"
      }
    },
    {
      "cell_type": "code",
      "source": [
        "import cv2"
      ],
      "metadata": {
        "id": "VdgrxFNPkKN2"
      },
      "execution_count": null,
      "outputs": []
    },
    {
      "cell_type": "markdown",
      "source": [
        "#Load the Noisy Image\n",
        "The code reads an image file named Degraded.jpg and stores it in the variable noisy_image. This image is expected to have some form of noise that we aim to reduce."
      ],
      "metadata": {
        "id": "w90GgKUbkNU8"
      }
    },
    {
      "cell_type": "code",
      "source": [
        "noisy_image = cv2.imread('Degraded.jpg')"
      ],
      "metadata": {
        "id": "PaF36kwtkSnI"
      },
      "execution_count": null,
      "outputs": []
    },
    {
      "cell_type": "markdown",
      "source": [
        "# Apply Median Filtering\n",
        "The cv2.medianBlur function applies median filtering to the noisy_image with a kernel size of 3. The kernel size determines the area around each pixel that will be considered for median filtering. A 3x3 kernel is used to assess nearby pixels."
      ],
      "metadata": {
        "id": "G1LxJYOgkTtM"
      }
    },
    {
      "cell_type": "code",
      "source": [
        "median_filtered_image = cv2.medianBlur(noisy_image, 3)"
      ],
      "metadata": {
        "id": "qvhD2azmkYyF"
      },
      "execution_count": null,
      "outputs": []
    },
    {
      "cell_type": "markdown",
      "source": [
        "# Display the Images\n",
        "The cv2.imshow function creates a window to display both the original noisy image and the filtered image. This allows for a visual comparison between the images."
      ],
      "metadata": {
        "id": "9trWx6RIkZe8"
      }
    },
    {
      "cell_type": "code",
      "source": [
        "cv2.imshow('Noisy Image', noisy_image)\n",
        "cv2.imshow('Median Filtered Image', median_filtered_image)"
      ],
      "metadata": {
        "id": "eNVAgyLEkeq3"
      },
      "execution_count": null,
      "outputs": []
    },
    {
      "cell_type": "markdown",
      "source": [
        "#Save the Filtered Image\n",
        "The filtered image is saved as Clearimage.jpg using the cv2.imwrite function, providing a new image that has reduced noise."
      ],
      "metadata": {
        "id": "i16oZ6E6khYP"
      }
    },
    {
      "cell_type": "code",
      "source": [
        "cv2.imwrite('Clearimage.jpg', median_filtered_image)"
      ],
      "metadata": {
        "id": "i_ZupfQ0kkyJ"
      },
      "execution_count": null,
      "outputs": []
    }
  ]
}