{
  "nbformat": 4,
  "nbformat_minor": 0,
  "metadata": {
    "colab": {
      "provenance": []
    },
    "kernelspec": {
      "name": "python3",
      "display_name": "Python 3"
    },
    "language_info": {
      "name": "python"
    }
  },
  "cells": [
    {
      "cell_type": "markdown",
      "source": [
        "#Import Necessary Libraries\n",
        "NumPy: A library for numerical operations, utilized here for array manipulation.\n",
        "\n",
        "Matplotlib: Used for plotting and visualizing images.\n",
        "\n",
        "SciPy: Specifically, the FFT functions for transforming images into the frequency domain.\n",
        "\n",
        "Scikit-Image: A collection of image processing algorithms, useful for reading images."
      ],
      "metadata": {
        "id": "cVH-oFUIiFEu"
      }
    },
    {
      "cell_type": "code",
      "execution_count": null,
      "metadata": {
        "id": "V1u7AUGziD3v"
      },
      "outputs": [],
      "source": [
        "import numpy as np\n",
        "import matplotlib.pyplot as plt\n",
        "from scipy.fft import fft2, fftshift, ifft2, ifftshift\n",
        "from skimage import io"
      ]
    },
    {
      "cell_type": "markdown",
      "source": [
        "#Load Image\n",
        "This line reads an image file (man.png) and stores it in the variable pat1."
      ],
      "metadata": {
        "id": "khJ3iTT4iS0o"
      }
    },
    {
      "cell_type": "code",
      "source": [
        "pat1 = io.imread('man.png')"
      ],
      "metadata": {
        "id": "RQky6AENiXVH"
      },
      "execution_count": null,
      "outputs": []
    },
    {
      "cell_type": "markdown",
      "source": [
        "#Compute the 2D FFT\n",
        "The image is converted to a floating-point format, which is necessary for performing FFT.\n",
        "\n",
        "fft2 computes the 2D Fast Fourier Transform of the image. This operation transforms the image from the spatial domain to the frequency domain.\n",
        "\n",
        "fftshift rearranges the output of the FFT so that the zero frequency component is in the center of the spectrum, making it easier to visualize."
      ],
      "metadata": {
        "id": "pVaSJDULiZAd"
      }
    },
    {
      "cell_type": "code",
      "source": [
        "spec_orig = fft2(pat1.astype(float))\n",
        "spec_img = fftshift(spec_orig)"
      ],
      "metadata": {
        "id": "osqtgfLmifSc"
      },
      "execution_count": null,
      "outputs": []
    },
    {
      "cell_type": "markdown",
      "source": [
        "#Modify Frequency Components\n",
        "In this section, specific ranges of frequency components are set to zero. This effectively removes certain frequencies from the image, acting as a high-pass filter.\n",
        "\n",
        "The nested loops iterate over specific pixel columns (j) and frequency ranges (n) to nullify those components in the frequency domain."
      ],
      "metadata": {
        "id": "KwJMXzuHih7z"
      }
    },
    {
      "cell_type": "code",
      "source": [
        "for j in range(115, 126):\n",
        "    for n in range(100, 120):\n",
        "        spec_img[n, j] = 0\n",
        "    for n in range(216, 227):\n",
        "        spec_img[n, j] = 0\n",
        "    for n in range(274, 285):\n",
        "        spec_img[n, j] = 0\n",
        "    for n in range(298, 309):\n",
        "        spec_img[n, j] = 0\n",
        "    for n in range(12, 23):\n",
        "        spec_img[n, j] = 0\n",
        "    for n in range(37, 48):\n",
        "        spec_img[n, j] = 0"
      ],
      "metadata": {
        "id": "AD6FCegfinNy"
      },
      "execution_count": null,
      "outputs": []
    },
    {
      "cell_type": "markdown",
      "source": [
        "#Inverse FFT to Retrieve the Modified Image\n",
        "After modifying the frequency components, ifftshift re-centers the frequency data.\n",
        "\n",
        "ifft2 then computes the inverse FFT, transforming the frequency domain data back into the spatial domain.\n",
        "\n",
        "The np.real function extracts the real part of the transformed data, as the inverse FFT may result in complex numbers due to numerical errors."
      ],
      "metadata": {
        "id": "C8-VbqXmiodu"
      }
    },
    {
      "cell_type": "code",
      "source": [
        "ptnfx = np.real(ifft2(ifftshift(spec_img)))"
      ],
      "metadata": {
        "id": "Ne0NKOyriuwF"
      },
      "execution_count": null,
      "outputs": []
    },
    {
      "cell_type": "markdown",
      "source": [
        "#Display and Save the Resulting Image\n",
        "The modified image is displayed using plt.imshow, which applies a grayscale colormap.\n",
        "\n",
        "The output image is saved as out_put.png and displayed in a window.\n"
      ],
      "metadata": {
        "id": "yv8cg5SyixJp"
      }
    },
    {
      "cell_type": "code",
      "source": [
        "plt.imshow(ptnfx, cmap='gray')\n",
        "plt.savefig('out_put.png')\n",
        "plt.show()"
      ],
      "metadata": {
        "id": "PixoUH1hi2wr"
      },
      "execution_count": null,
      "outputs": []
    }
  ]
}